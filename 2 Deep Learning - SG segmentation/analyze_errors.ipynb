{
 "cells": [
  {
   "cell_type": "code",
   "execution_count": 1,
   "metadata": {
    "scrolled": true
   },
   "outputs": [
    {
     "name": "stderr",
     "output_type": "stream",
     "text": [
      "/home/milos/anaconda3/lib/python3.6/site-packages/h5py/__init__.py:36: FutureWarning: Conversion of the second argument of issubdtype from `float` to `np.floating` is deprecated. In future, it will be treated as `np.float64 == np.dtype(float).type`.\n",
      "  from ._conv import register_converters as _register_converters\n"
     ]
    }
   ],
   "source": [
    "import tensorflow as tf\n",
    "import numpy as np\n",
    "import cv2\n",
    "import glob\n",
    "import os\n",
    "import matplotlib.pyplot as plt\n",
    "%matplotlib inline\n",
    "import pickle\n",
    "\n",
    "import time\n"
   ]
  },
  {
   "cell_type": "markdown",
   "metadata": {},
   "source": [
    "# IOU calculation"
   ]
  },
  {
   "cell_type": "code",
   "execution_count": 2,
   "metadata": {},
   "outputs": [],
   "source": [
    "# set data you want to analyze\n",
    "dataset_part4eval = \"testing\" # \"testing\" or \"validation\"\n",
    "\n",
    "# set model to be used for inference\n",
    "inference_graph_path = \"./logs/FCN8_v2.TL_True.1.2k_images.res_224.learning_rate=1e-05.dropout=0.9.training_iter=0.8M.batch_size=16.cost_softmax_cross_entropy.rot_True.flip_True.crop_True.gauss_True.fixed_standardization_False/frozen_graph.pb\"\n",
    "#inference_graph_path = \"./logs/linkNet.TL_False.1.2k_images.res_224.learning_rate=1e-05.dropout=1.0.training_iter=0.8M.batch_size=8.cost_softmax_cross_entropy.rot_True.flip_True.crop_True.gauss_True.fixed_standardization_False/frozen_graph.pb\"\n",
    "#inference_graph_path = \"./logs/tiramisu103.TL_False.1.2k_images.res_224.learning_rate=1e-05.dropout=0.95.training_iter=0.8M.batch_size=4.cost_softmax_cross_entropy.rot_True.flip_True.crop_True.gauss_True.fixed_standardization_False/frozen_graph.pb\"\n",
    "#inference_graph_path = \"./logs/u_net_v1.TL_False.1.2k_images.res_228.learning_rate=1e-05.dropout=0.9.training_iter=0.8M.batch_size=8.cost_softmax_cross_entropy.rot_True.flip_True.crop_True.gauss_True.fixed_standardization_False/frozen_graph.pb\"\n",
    "\n",
    "model_name = inference_graph_path.split('/')[2].split('.')[0]\n",
    "if model_name == 'u_net_v1':\n",
    "    input_size = 228\n",
    "else:\n",
    "    input_size = 224\n",
    "\n",
    "dataset_imgs_path = os.path.join(\"./dataset/DATA/images\",dataset_part4eval)\n",
    "dataset_anns_path = os.path.join(\"./dataset/DATA/annotations\",dataset_part4eval)\n",
    "\n",
    "imgs_path = glob.glob(dataset_imgs_path+'/*.png')\n",
    "anns_path = glob.glob(dataset_anns_path+'/*.png')\n",
    "\n"
   ]
  },
  {
   "cell_type": "code",
   "execution_count": 3,
   "metadata": {},
   "outputs": [],
   "source": [
    "def get_IOUs(ann_gt,ann_pred):\n",
    "    TP = np.sum(ann_gt*ann_pred)\n",
    "    FNplusTP = np.sum(ann_gt) \n",
    "    FPplusTP = np.sum(ann_pred)\n",
    "    IOU_product = TP/(FNplusTP+FPplusTP-TP)\n",
    "    \n",
    "    TN = np.sum((ann_gt==0)*(ann_pred==0))\n",
    "    TNplusFP = np.sum(ann_gt==0)\n",
    "    TNplusFN = np.sum(ann_pred==0)\n",
    "    IOU_background = TN/(TNplusFP+TNplusFN-TN)\n",
    "    \n",
    "    IOU_mean = (IOU_product + IOU_background)/2\n",
    "    \n",
    "    return IOU_mean,IOU_product\n"
   ]
  },
  {
   "cell_type": "code",
   "execution_count": 4,
   "metadata": {
    "scrolled": true
   },
   "outputs": [
    {
     "name": "stdout",
     "output_type": "stream",
     "text": [
      "IoU (cumulative matrix): 0.916904\n",
      "Gland IoU (cumulative matrix): 0.852852\n",
      "Average IoU: 0.912634\n",
      "Average gland IoU: 0.844351\n"
     ]
    }
   ],
   "source": [
    "NUM_OF_CLASSESS = 2\n",
    "tf.reset_default_graph()\n",
    "\n",
    "iou_mean_curr_global = 0\n",
    "iou_product_curr_global =  0\n",
    "\n",
    "with tf.gfile.GFile(name=inference_graph_path,mode='rb') as f:\n",
    "    input_graph_def = tf.GraphDef()\n",
    "    input_graph_def.ParseFromString(f.read())\n",
    "    \n",
    "graph = tf.get_default_graph()\n",
    "\n",
    "with tf.Session() as sess:\n",
    "    tf.import_graph_def(input_graph_def,name='import')\n",
    "\n",
    "    image = graph.get_tensor_by_name('import/input_image:0')\n",
    "    pred_annotation = graph.get_tensor_by_name('import/inference/prediction:0')    \n",
    "    keep_probability = graph.get_tensor_by_name('import/keep_probabilty:0')\n",
    "    TRAINING = graph.get_tensor_by_name('import/TRAINING:0')\n",
    "    annotation = tf.placeholder(dtype=tf.int32,shape=[None,input_size,input_size,1])\n",
    "    \n",
    "    with tf.name_scope('metrics') as scope:\n",
    "        iou_mean, cm_update_op = tf.metrics.mean_iou(labels=annotation, predictions=tf.expand_dims(pred_annotation,axis=3), num_classes=NUM_OF_CLASSESS)\n",
    "        conf_mat = tf.Variable(initial_value=np.zeros([NUM_OF_CLASSESS,NUM_OF_CLASSESS]),name='confusion_matrix')\n",
    "        iou_background = tf.divide(conf_mat[0,0],tf.subtract(tf.add(tf.reduce_sum(conf_mat,0)[0],tf.reduce_sum(conf_mat,1)[0]),conf_mat[0,0]),name='iou_background')\n",
    "        iou_product =      tf.divide(conf_mat[1,1],tf.subtract(tf.add(tf.reduce_sum(conf_mat,0)[1],tf.reduce_sum(conf_mat,1)[1]),conf_mat[1,1]),name='iou_product') \n",
    "        \n",
    "        \n",
    "    img_path_list = []\n",
    "    IOU_mean_list = []\n",
    "    IOU_product_list = []\n",
    "    img_list = [] \n",
    "    true_ann_list = []\n",
    "    pred_ann_list = []\n",
    "    \n",
    "    metrics_vars = [v for v in tf.local_variables() if 'metrics' in v.name]\n",
    "    sess.run(tf.variables_initializer(metrics_vars))    \n",
    "        \n",
    "    for idx in range(len(imgs_path)):\n",
    "        start_time = time.time()\n",
    "        \n",
    "        img_path = imgs_path[idx]\n",
    "        img = cv2.imread(img_path)\n",
    "        img = cv2.cvtColor(img,cv2.COLOR_BGR2RGB)\n",
    "        img = cv2.resize(img,(input_size,input_size))\n",
    "        \n",
    "        ann_path = anns_path[idx]\n",
    "        ann = cv2.imread(ann_path)\n",
    "        ann = cv2.resize(ann,(input_size,input_size))\n",
    "        ann = ann[:,:,0]\n",
    "        ann = np.expand_dims(ann,2)         \n",
    "        \n",
    "        feed_dict={image:np.expand_dims(img,0), keep_probability:1.0, TRAINING:False, annotation:np.expand_dims(ann,0)}\n",
    "        cm, pred_ann = sess.run([cm_update_op,pred_annotation], feed_dict=feed_dict)\n",
    "       \n",
    "        iou_mean_curr_global = iou_mean.eval()\n",
    "        conf_mat.load(cm, sess)\n",
    "        iou_product_curr_global =  iou_product.eval() \n",
    "      \n",
    "        iou_mean_curr, iou_product_curr = get_IOUs(ann.squeeze(),pred_ann.squeeze())\n",
    "        \n",
    "        IOU_mean_list.append(iou_mean_curr)  \n",
    "        IOU_product_list.append(iou_product_curr)  \n",
    "        img_list.append(img)\n",
    "        pred_ann_list.append(pred_ann[0].astype(np.uint8))\n",
    "        true_ann_list.append(ann.squeeze(2))\n",
    "        img_path_list.append(imgs_path[idx]) \n",
    "        \n",
    "       \n",
    "print('IoU (cumulative matrix): %f'%iou_mean_curr_global)\n",
    "print('Gland IoU (cumulative matrix): %f'%iou_product_curr_global)\n",
    "\n",
    "print('Average IoU: %f'%np.nanmean(IOU_mean_list))\n",
    "print('Average gland IoU: %f'%np.nanmean(IOU_product_list))"
   ]
  },
  {
   "cell_type": "code",
   "execution_count": null,
   "metadata": {},
   "outputs": [],
   "source": []
  },
  {
   "cell_type": "code",
   "execution_count": null,
   "metadata": {},
   "outputs": [],
   "source": []
  },
  {
   "cell_type": "markdown",
   "metadata": {},
   "source": [
    "# Print 10 worst IoU values"
   ]
  },
  {
   "cell_type": "code",
   "execution_count": 5,
   "metadata": {},
   "outputs": [
    {
     "data": {
      "text/plain": [
       "[{'249_BORSETTO_0005.png': 0.4233704292527822},\n",
       " {'164_STELLIN_0005.png': 0.45554445554445555},\n",
       " {'5_GALLAS_0003.png': 0.47845303867403316},\n",
       " {'264_CIMETTA_0005.png': 0.4965826569841948},\n",
       " {'344_MAIERO_0005.png': 0.591869591467096},\n",
       " {'344_IMG-0001-00007.png': 0.6035196687370601},\n",
       " {'220_GORI_0002.png': 0.6173506119510439},\n",
       " {'133_IMG-0001-00007.png': 0.6210097926999872},\n",
       " {'11_VIT_0008.png': 0.6371134020618556},\n",
       " {'152_IMG-0001-00008.png': 0.6439172240802675}]"
      ]
     },
     "execution_count": 5,
     "metadata": {},
     "output_type": "execute_result"
    }
   ],
   "source": [
    "indices = sorted(range(len(IOU_product_list)), key=lambda k: IOU_product_list[k])[0:10]\n",
    "[{img_path_list[idx].split('/')[-1]:IOU_product_list[idx]} for idx in indices]"
   ]
  },
  {
   "cell_type": "markdown",
   "metadata": {},
   "source": [
    "# Print IOU values for given images"
   ]
  },
  {
   "cell_type": "code",
   "execution_count": 6,
   "metadata": {},
   "outputs": [
    {
     "data": {
      "text/plain": [
       "0.9399434370321078"
      ]
     },
     "execution_count": 6,
     "metadata": {},
     "output_type": "execute_result"
    }
   ],
   "source": [
    "IOU_product_list[[path.split('/')[-1] for path in img_path_list].index('11_¡mg420.png')]"
   ]
  },
  {
   "cell_type": "code",
   "execution_count": 7,
   "metadata": {},
   "outputs": [
    {
     "data": {
      "text/plain": [
       "0.6629637392580172"
      ]
     },
     "execution_count": 7,
     "metadata": {},
     "output_type": "execute_result"
    }
   ],
   "source": [
    "IOU_product_list[[path.split('/')[-1] for path in img_path_list].index('244_IMG-0001-00007.png')]"
   ]
  },
  {
   "cell_type": "code",
   "execution_count": 8,
   "metadata": {},
   "outputs": [
    {
     "data": {
      "text/plain": [
       "0.45554445554445555"
      ]
     },
     "execution_count": 8,
     "metadata": {},
     "output_type": "execute_result"
    }
   ],
   "source": [
    "IOU_product_list[[path.split('/')[-1] for path in img_path_list].index('164_STELLIN_0005.png')]"
   ]
  },
  {
   "cell_type": "code",
   "execution_count": 9,
   "metadata": {},
   "outputs": [
    {
     "data": {
      "text/plain": [
       "0.9424644398273934"
      ]
     },
     "execution_count": 9,
     "metadata": {},
     "output_type": "execute_result"
    }
   ],
   "source": [
    "IOU_product_list[[path.split('/')[-1] for path in img_path_list].index('371_¡mg043.png')]"
   ]
  },
  {
   "cell_type": "code",
   "execution_count": null,
   "metadata": {},
   "outputs": [],
   "source": []
  },
  {
   "cell_type": "markdown",
   "metadata": {},
   "source": [
    "# Plot input image, predicted annotations and ground truth annotations "
   ]
  },
  {
   "cell_type": "code",
   "execution_count": 10,
   "metadata": {},
   "outputs": [
    {
     "data": {
      "text/plain": [
       "<matplotlib.image.AxesImage at 0x7f08e549b5f8>"
      ]
     },
     "execution_count": 10,
     "metadata": {},
     "output_type": "execute_result"
    },
    {
     "data": {
      "image/png": "[encoded data removed]",
      "text/plain": [
       "<Figure size 432x288 with 1 Axes>"
      ]
     },
     "metadata": {},
     "output_type": "display_data"
    }
   ],
   "source": [
    "plt.imshow(img_list[1])"
   ]
  },
  {
   "cell_type": "code",
   "execution_count": 11,
   "metadata": {},
   "outputs": [
    {
     "data": {
      "text/plain": [
       "<matplotlib.image.AxesImage at 0x7f08e542dfd0>"
      ]
     },
     "execution_count": 11,
     "metadata": {},
     "output_type": "execute_result"
    },
    {
     "data": {
      "image/png": "[encoded data removed]",
      "text/plain": [
       "<Figure size 432x288 with 1 Axes>"
      ]
     },
     "metadata": {},
     "output_type": "display_data"
    }
   ],
   "source": [
    "plt.imshow(pred_ann_list[1])"
   ]
  },
  {
   "cell_type": "code",
   "execution_count": 12,
   "metadata": {},
   "outputs": [
    {
     "data": {
      "text/plain": [
       "<matplotlib.image.AxesImage at 0x7f08e43739b0>"
      ]
     },
     "execution_count": 12,
     "metadata": {},
     "output_type": "execute_result"
    },
    {
     "data": {
      "image/png": "[encoded data removed]",
      "text/plain": [
       "<Figure size 432x288 with 1 Axes>"
      ]
     },
     "metadata": {},
     "output_type": "display_data"
    }
   ],
   "source": [
    "plt.imshow(true_ann_list[1])"
   ]
  },
  {
   "cell_type": "markdown",
   "metadata": {},
   "source": [
    "# IoU histograms"
   ]
  },
  {
   "cell_type": "code",
   "execution_count": 13,
   "metadata": {},
   "outputs": [
    {
     "data": {
      "text/plain": [
       "(0, 1)"
      ]
     },
     "execution_count": 13,
     "metadata": {},
     "output_type": "execute_result"
    },
    {
     "data": {
      "image/png": "[encoded data removed]",
      "text/plain": [
       "<Figure size 432x288 with 1 Axes>"
      ]
     },
     "metadata": {},
     "output_type": "display_data"
    }
   ],
   "source": [
    "plt.hist(IOU_mean_list,bins=20)\n",
    "plt.title('Mean IOU')\n",
    "plt.xlim((0,1))\n"
   ]
  },
  {
   "cell_type": "code",
   "execution_count": 14,
   "metadata": {
    "scrolled": true
   },
   "outputs": [
    {
     "data": {
      "text/plain": [
       "(0, 1)"
      ]
     },
     "execution_count": 14,
     "metadata": {},
     "output_type": "execute_result"
    },
    {
     "data": {
      "image/png": "[encoded data removed]",
      "text/plain": [
       "<Figure size 432x288 with 1 Axes>"
      ]
     },
     "metadata": {},
     "output_type": "display_data"
    }
   ],
   "source": [
    "plt.hist(IOU_product_list,bins=20)\n",
    "plt.title('Gland IOU')\n",
    "plt.xlim((0,1))\n"
   ]
  },
  {
   "cell_type": "code",
   "execution_count": null,
   "metadata": {},
   "outputs": [],
   "source": []
  },
  {
   "cell_type": "markdown",
   "metadata": {},
   "source": [
    "# Store images to be checked"
   ]
  },
  {
   "cell_type": "code",
   "execution_count": 15,
   "metadata": {},
   "outputs": [],
   "source": [
    "for idx in range(len(IOU_product_list)):\n",
    "    img = img_list[idx]\n",
    "    img = cv2.cvtColor(img,cv2.COLOR_BGR2RGB)\n",
    "    \n",
    "    ann = np.zeros(shape=[input_size,input_size,3],dtype=np.uint8)\n",
    "    ann[:,:,0] = true_ann_list[idx]\n",
    "    ann[:,:,1] = true_ann_list[idx]\n",
    "    ann[:,:,2] = true_ann_list[idx]\n",
    "   \n",
    "    pred_ann = np.zeros(shape=[input_size,input_size,3],dtype=np.uint8)\n",
    "    pred_ann[:,:,0] = pred_ann_list[idx]\n",
    "    pred_ann[:,:,1] = pred_ann_list[idx]\n",
    "    pred_ann[:,:,2] = pred_ann_list[idx]\n",
    "    \n",
    "    prediction_img = np.zeros([input_size,input_size,3])\n",
    "    gt = (pred_ann[:,:,0]==1) * (ann[:,:,0]==1)\n",
    "    fp = (pred_ann[:,:,0]==1) * (ann[:,:,0]==0)\n",
    "    fn = (pred_ann[:,:,0]==0) * (ann[:,:,0]==1)\n",
    "    prediction_img[gt] = [0,255,0]\n",
    "    prediction_img[fp] = [0,0,255]\n",
    "    prediction_img[fn] = [0,255,255]    \n",
    "    \n",
    "    merged_image = np.zeros(shape=[input_size,input_size*2+20,3])+100\n",
    "   \n",
    "    merged_image[0:input_size,0:input_size,:] = img\n",
    "    merged_image[0:input_size,input_size+20:input_size*2+20,:] = prediction_img\n",
    "    merged_image = merged_image.astype(np.uint8)\n",
    "    \n",
    "    out_path = os.path.join('./worst_predictions',dataset_part4eval,model_name,'merged_'+ img_path_list[idx].split('/')[-1])\n",
    "    cv2.imwrite(out_path,merged_image)\n",
    "    "
   ]
  },
  {
   "cell_type": "code",
   "execution_count": null,
   "metadata": {},
   "outputs": [],
   "source": []
  },
  {
   "cell_type": "code",
   "execution_count": null,
   "metadata": {},
   "outputs": [],
   "source": []
  }
 ],
 "metadata": {
  "kernelspec": {
   "display_name": "Python 3",
   "language": "python",
   "name": "python3"
  },
  "language_info": {
   "codemirror_mode": {
    "name": "ipython",
    "version": 3
   },
   "file_extension": ".py",
   "mimetype": "text/x-python",
   "name": "python",
   "nbconvert_exporter": "python",
   "pygments_lexer": "ipython3",
   "version": "3.6.5"
  }
 },
 "nbformat": 4,
 "nbformat_minor": 2
}
